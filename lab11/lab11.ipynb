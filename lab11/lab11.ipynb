{
  "cells": [
    {
      "cell_type": "markdown",
      "id": "ff03b12d",
      "metadata": {
        "id": "ff03b12d"
      },
      "source": [
        "# Kruskal’s Algorithm"
      ]
    },
    {
      "cell_type": "markdown",
      "id": "2d959267",
      "metadata": {
        "id": "2d959267"
      },
      "source": [
        "The content of the following notebook is based on [this R course](https://web.archive.org/web/20141114045919/http://www.stats.ox.ac.uk/~konis/Rcourse/exercise1.pdf) and [Hage et al. (1996) paper](./hage1996.pdf)."
      ]
    },
    {
      "cell_type": "markdown",
      "id": "85b54bda",
      "metadata": {
        "id": "85b54bda"
      },
      "source": [
        "### Introduction: Similarity of Polynesian islands"
      ]
    },
    {
      "cell_type": "markdown",
      "id": "8e523496",
      "metadata": {
        "id": "8e523496"
      },
      "source": [
        "In 1938 Burrows published the results of an extensive archaeological analysis of Polynesian\n",
        "islands. By examining cultural traits and complexes including artifacts (tools, canoe types,\n",
        "bark cloth, etc.), aspects of social organization (languages, kinship practices), and religious\n",
        "ideas, he identified 4 subgroups in Polynesia.\n",
        "\n",
        "- Western Polynesia (Samoa, Tonga)\n",
        "- Central Polynesia (Society Islands, Tuamotus, Southern Cooks, Australs, Rapa, Hawaii)\n",
        "- Marginal Polynesia (New Zealand, Easter Island, Marqueses, Mangareva)\n",
        "- Intermediate Polynesia (Northern Cooks)\n",
        "\n",
        "In 1992 Irwin proposed that the level of similarity between Polynesian cultures is proportional\n",
        "to the ease of travel between them. In other words, the more remote two islands are, the less\n",
        "similar their cultures. \n",
        "\n",
        "Below you can find the Irwin's close proximity analysis of the mutual accessibility network of Polynesian islands.\n",
        "\n",
        "\n",
        "![](./irving_map.png)\n",
        "\n",
        "In support of the hypothesis that accessibility is predictive of patterns of cultural similarity, Irwin\n",
        "notes parallels between his close proximity network and the subgroupings in Polynesia identified\n",
        "by Burrows (1938). Unfortunately, the Irvin's network contains many superfluous edges and hence cycles which tend to obscure such parallels."
      ]
    },
    {
      "cell_type": "markdown",
      "id": "cc3e6404",
      "metadata": {
        "id": "cc3e6404"
      },
      "source": [
        "### Task 1: Implement Maximum Weight Spanning Tree"
      ]
    },
    {
      "cell_type": "markdown",
      "id": "be390c3e",
      "metadata": {
        "id": "be390c3e"
      },
      "source": [
        "**The assignment is to test Irwin’s hypothesis by computing a maximum weight spanning tree\n",
        "for the accessibility of these 13 islands.**\n",
        "\n",
        "The following matrix gives the mutual accessibility (as computed by\n",
        "Irwin) between the islands in the study."
      ]
    },
    {
      "cell_type": "code",
      "execution_count": 6,
      "id": "1757ee52",
      "metadata": {
        "id": "1757ee52"
      },
      "outputs": [],
      "source": [
        "header = ['TON', 'SAM', 'SCK', 'NCK', 'SOC', 'MRQ', 'TUA', 'MGR', 'AUS', 'RAP', 'HAW', 'EAS', 'NZ']\n",
        "\n",
        "matrix = [\n",
        "    [0, 0.44, 0.32, 0.18, 0.22, 0.18, 0.24, 0.09, 0.16, 0.10, 0.11, 0.03, 0.23],\n",
        "    [0.44, 0, 0.27, 0.23, 0.17, 0.15, 0.17, 0.10, 0.19, 0.11, 0.19, 0.05, 0.24],\n",
        "    [0.32, 0.27, 0,  0.23, 0.54, 0.30, 0.46, 0.14, 0.38, 0.18, 0.15, 0.08, 0.24],\n",
        "    [0.18, 0.23, 0.23, 0,  0.23, 0.15, 0.21, 0.11, 0.18, 0.14, 0.11, 0.05, 0.10],\n",
        "    [0.22, 0.17, 0.54, 0.23, 0, 0.41, 0.98, 0.22, 0.71, 0.21, 0.20, 0.09, 0.20],\n",
        "    [0.18, 0.15, 0.30, 0.15, 0.41, 0, 0.54, 0.20, 0.34, 0.15, 0.13, 0.10, 0.12],\n",
        "    [0.24, 0.17, 0.46, 0.21, 0.98, 0.54, 0, 0.34, 0.63, 0.21, 0.21, 0.11, 0.24],\n",
        "    [0.09, 0.10, 0.14, 0.11, 0.22, 0.20, 0.34, 0, 0.23, 0.21, 0.08, 0.14, 0.08],\n",
        "    [0.16, 0.19, 0.38, 0.18, 0.71, 0.34, 0.63, 0.23, 0, 0.33, 0.19, 0.06, 0.21],\n",
        "    [0.10, 0.11, 0.18, 0.14, 0.21, 0.15, 0.21, 0.21, 0.33, 0, 0.05, 0.10, 0.09],\n",
        "    [0.11, 0.19, 0.15, 0.11, 0.20, 0.13, 0.21, 0.08, 0.19, 0.05, 0,  0.03, 0.09],\n",
        "    [0.03, 0.05, 0.08, 0.05, 0.09, 0.10, 0.11, 0.14, 0.06, 0.10, 0.03, 0, 0.00],\n",
        "    [0.23, 0.24, 0.24, 0.10, 0.20, 0.12, 0.24, 0.08, 0.21, 0.09, 0.09, 0.00, 0]\n",
        "]\n"
      ]
    },
    {
      "cell_type": "code",
      "execution_count": 7,
      "id": "b101feab",
      "metadata": {
        "scrolled": true,
        "id": "b101feab"
      },
      "outputs": [],
      "source": [
        "from collections import namedtuple\n",
        "\n",
        "Edge = namedtuple('Edge', ['weight', 'island1', 'island2'])\n",
        "\n",
        "def matrix_to_edges(header, matrix):\n",
        "    G = []\n",
        "    for i, row in enumerate(matrix):\n",
        "        for j, weight in enumerate(row):\n",
        "            if weight != 0 or i == j:\n",
        "                island1 = header[i]\n",
        "                island2 = header[j]\n",
        "                G.append(Edge(weight=weight, island1=island1, island2=island2))\n",
        "    return G\n",
        "\n",
        "G = matrix_to_edges(header, matrix)"
      ]
    },
    {
      "cell_type": "markdown",
      "id": "e88b46b3",
      "metadata": {
        "id": "e88b46b3"
      },
      "source": [
        "One method for computing the maximum weight spanning tree of a network G – due to Kruskal\n",
        "– can be summarized as follows.\n",
        "\n",
        "1. Sort the edges of $G$ into decreasing order by weight. Let $T$ be the set of edges comprising the maximum weight spanning tree. Set $T = ∅$.\n",
        "2. Add the first edge to $T$.\n",
        "3. Add the next edge to $T$ if and only if it does not form a cycle in $T$. If there are no remaining edges exit and report $G$ to be disconnected.\n",
        "4. If $T$ has $n−1$ edges (where $n$ is the number of vertices in $G$) stop and output $T$. Otherwise go to step 3."
      ]
    },
    {
      "cell_type": "code",
      "execution_count": 8,
      "id": "b3ad2459",
      "metadata": {
        "colab": {
          "base_uri": "https://localhost:8080/"
        },
        "id": "b3ad2459",
        "outputId": "49a3d7da-d190-4286-b39b-70ac641a066f"
      },
      "outputs": [
        {
          "output_type": "execute_result",
          "data": {
            "text/plain": [
              "[Edge(weight=0.98, island1='SOC', island2='TUA'),\n",
              " Edge(weight=0.71, island1='SOC', island2='AUS'),\n",
              " Edge(weight=0.54, island1='SCK', island2='SOC'),\n",
              " Edge(weight=0.54, island1='MRQ', island2='TUA'),\n",
              " Edge(weight=0.44, island1='TON', island2='SAM'),\n",
              " Edge(weight=0.34, island1='TUA', island2='MGR'),\n",
              " Edge(weight=0.33, island1='AUS', island2='RAP'),\n",
              " Edge(weight=0.32, island1='TON', island2='SCK'),\n",
              " Edge(weight=0.24, island1='SAM', island2='NZ'),\n",
              " Edge(weight=0.23, island1='SAM', island2='NCK'),\n",
              " Edge(weight=0.21, island1='TUA', island2='HAW'),\n",
              " Edge(weight=0.14, island1='MGR', island2='EAS')]"
            ]
          },
          "metadata": {},
          "execution_count": 8
        }
      ],
      "source": [
        "\n",
        "# We'll use a named tuple to represent edges\n",
        "Edge = namedtuple('Edge', ['weight', 'island1', 'island2'])\n",
        "\n",
        "def kruskal(edges, num_vertices):\n",
        "    # Sort the edges by weight\n",
        "    edges.sort(key=lambda edge: edge.weight, reverse=True)\n",
        "    \n",
        "    # Create a list to hold the forest of trees that we'll create\n",
        "    forest = []\n",
        "    for island in header:\n",
        "        # Initially, each vertex is in its own tree\n",
        "        forest.append([island])\n",
        "\n",
        "        # Initialize an empty list to hold the edges in the minimum spanning tree\n",
        "    mst = []\n",
        "    \n",
        "    # Keep track of the number of edges we've added to the MST\n",
        "    num_edges_in_mst = 0\n",
        "    for edge in edges:\n",
        "        # Find the trees that the vertices of this edge belong to\n",
        "        island1_tree = None\n",
        "        island2_tree = None\n",
        "        for tree in forest:\n",
        "            if edge.island1 in tree:\n",
        "                island1_tree = tree\n",
        "            if edge.island2 in tree:\n",
        "                island2_tree = tree\n",
        "\n",
        "        # If the vertices are in the same trees, then adding this edge\n",
        "        # would create a cycle. \n",
        "        if island1_tree != island2_tree:\n",
        "            # Add the edge to the minimum spanning tree\n",
        "            mst.append(edge)\n",
        "            num_edges_in_mst += 1\n",
        "            \n",
        "            # Merge the two trees into a single tree\n",
        "            island1_tree.extend(island2_tree)\n",
        "            forest.remove(island2_tree)\n",
        "            \n",
        "        \n",
        "        # If we've added n-1 edges, then we have a minimum spanning tree\n",
        "        if num_edges_in_mst == num_vertices - 1:\n",
        "            break\n",
        "    \n",
        "    return mst\n",
        "\n",
        "# Example usage\n",
        "\n",
        "mst = kruskal(G, len(header))\n",
        "mst"
      ]
    },
    {
      "cell_type": "markdown",
      "id": "e3fc9725",
      "metadata": {
        "id": "e3fc9725"
      },
      "source": [
        "### Task 2\n",
        "Draw the maximum weight spanning tree. Use dashed lines for the $k$ edges with the smallest weights (where $k$ is a number you pick) to emphasize the clusters. You can use the coordinates given below to plot the islands in their geographical distance."
      ]
    },
    {
      "cell_type": "code",
      "execution_count": 9,
      "id": "f0fcad87",
      "metadata": {
        "colab": {
          "base_uri": "https://localhost:8080/",
          "height": 466
        },
        "id": "f0fcad87",
        "outputId": "6f8d9019-47d0-4a08-a75c-b2c2f9b4e2f5"
      },
      "outputs": [
        {
          "output_type": "display_data",
          "data": {
            "text/plain": [
              "<Figure size 576x576 with 1 Axes>"
            ],
            "image/png": "[encoded data removed]"
          },
          "metadata": {}
        }
      ],
      "source": [
        "import networkx as nx\n",
        "import matplotlib.pyplot as plt\n",
        "\n",
        "G = nx.Graph()\n",
        "\n",
        "for edge in mst:\n",
        "  G.add_node(edge.island1)\n",
        "  G.add_node(edge.island2)\n",
        "\n",
        "for edge in mst:\n",
        "  G.add_edge(edge.island1, edge.island2, weight=edge.weight)\n",
        "\n",
        "edges_sorted = sorted(mst, key=lambda x: x.weight)\n",
        "\n",
        "k=4\n",
        "k_smallest_edges = edges_sorted[:k]\n",
        "k_smallest_edges = [(edge.island1, edge.island2) for edge in k_smallest_edges]\n",
        "\n",
        "plt.figure(figsize=(8,8))\n",
        "\n",
        "# get a list of all the edges\n",
        "all_edges = list(G.edges)\n",
        "\n",
        "# create a list of tuples, where each tuple consists of two nodes and a string specifying the style\n",
        "edge_styles = ['solid' for u, v in all_edges if (u, v) not in k_smallest_edges] + ['dashed' for u, v in k_smallest_edges]\n",
        "\n",
        "# use the edge_styles list to specify the style of each edge when drawing the graph\n",
        "nx.draw_networkx(G, with_labels=True, edgelist=all_edges, style=edge_styles)\n",
        "\n",
        "plt.show()"
      ]
    },
    {
      "cell_type": "markdown",
      "id": "d055584d",
      "metadata": {
        "id": "d055584d"
      },
      "source": [
        "If you want you can use the following coordinates and plot the results on a map."
      ]
    },
    {
      "cell_type": "code",
      "execution_count": 10,
      "id": "d151ce2d",
      "metadata": {
        "id": "d151ce2d"
      },
      "outputs": [],
      "source": [
        "locations = [\n",
        "  (-21.13, -175.20, \"Tonga\"),\n",
        "  (-13.83, -171.83, \"Samoa\"),\n",
        "  (-21.33, -160.27, \"South Cook\"),\n",
        "  (-10.88, -165.82, \"North Cook\"),\n",
        "  (-17.67, -149.50, \"Society\"),\n",
        "  (-8.89, -140.13, \"Marquesas\"),\n",
        "  (-15.08, -145.87, \"Tuamotu\"),\n",
        "  (-23.12, -134.97, \"Mangareva\"),\n",
        "  (-23.38, -149.45, \"Australs\"),\n",
        "  (-27.58, -144.33, \"Rapa\"),\n",
        "  (19.52, -155.51, \"Hawaii\"),\n",
        "  (-27.12, -109.37, \"Easter\"),\n",
        "  (-41.35, 175.02, \"New Zealand\")\n",
        "]"
      ]
    },
    {
      "cell_type": "markdown",
      "id": "bf98de76",
      "metadata": {
        "id": "bf98de76"
      },
      "source": [
        "### Task 3\n",
        "Compare the implied clusters with those given in Burrows’ study. Additionally, compare your results to Figure 3 in the Hage et al. paper. What are the differences? Is your clutering in agreement with what Burrows suggested?"
      ]
    },
    {
      "cell_type": "markdown",
      "source": [
        "Sieć jest podobna do sieci, która znaujduje się w artykule hage 1996.\n",
        "\n",
        "Różnice:\n",
        "NZ jest połączone z SAM zamist SCK.\n",
        "\n",
        "Sieć wydaje się zupełnie nie podobna do tej w Burrows."
      ],
      "metadata": {
        "id": "81hmDsIbedFv"
      },
      "id": "81hmDsIbedFv"
    }
  ],
  "metadata": {
    "kernelspec": {
      "display_name": "Python 3 (ipykernel)",
      "language": "python",
      "name": "python3"
    },
    "language_info": {
      "codemirror_mode": {
        "name": "ipython",
        "version": 3
      },
      "file_extension": ".py",
      "mimetype": "text/x-python",
      "name": "python",
      "nbconvert_exporter": "python",
      "pygments_lexer": "ipython3",
      "version": "3.7.12"
    },
    "colab": {
      "provenance": []
    }
  },
  "nbformat": 4,
  "nbformat_minor": 5
}