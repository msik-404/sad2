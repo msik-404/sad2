{
  "nbformat": 4,
  "nbformat_minor": 0,
  "metadata": {
    "colab": {
      "provenance": []
    },
    "kernelspec": {
      "name": "python3",
      "display_name": "Python 3"
    },
    "language_info": {
      "name": "python"
    }
  },
  "cells": [
    {
      "cell_type": "code",
      "source": [
        "from IPython.display import Image\n",
        "\n",
        "PATH = \"https://raw.githubusercontent.com/SIIIKOR/sad2/main/projekt2/\"\n",
        "IMG_PATH = PATH + \"/BN.png\"\n",
        "TASK_1_IMG_PATH = PATH + \"/TASK_1.jpg\"\n",
        "TASK_9_IMG_PATH = PATH + \"/TASK_9.jpg\"\n",
        "Image(url=IMG_PATH)"
      ],
      "metadata": {
        "colab": {
          "base_uri": "https://localhost:8080/",
          "height": 485
        },
        "id": "5azYU7HO62yE",
        "outputId": "330c856b-0c35-4664-8968-8ee3f98c0d8c"
      },
      "execution_count": 148,
      "outputs": [
        {
          "output_type": "execute_result",
          "data": {
            "text/html": [
              "<img src=\"https://raw.githubusercontent.com/SIIIKOR/sad2/main/projekt2//BN.png\"/>"
            ],
            "text/plain": [
              "<IPython.core.display.Image object>"
            ]
          },
          "metadata": {},
          "execution_count": 148
        }
      ]
    },
    {
      "cell_type": "code",
      "source": [
        "from random import choices, random\n",
        "import numpy as np\n",
        "import matplotlib.pyplot as plt\n",
        "import statsmodels.api as sm"
      ],
      "metadata": {
        "id": "iFWBdBS5DfHy"
      },
      "execution_count": 149,
      "outputs": []
    },
    {
      "cell_type": "markdown",
      "source": [
        "# **TASK 1**"
      ],
      "metadata": {
        "id": "8PM2tkfVDghq"
      }
    },
    {
      "cell_type": "code",
      "source": [
        "Image(url=TASK_1_IMG_PATH, width=3200//3, height=1809//3)"
      ],
      "metadata": {
        "colab": {
          "base_uri": "https://localhost:8080/",
          "height": 624
        },
        "id": "8ntwJcrF-Q55",
        "outputId": "30ce7df9-4d17-49f6-b1ad-3aa848046b1c"
      },
      "execution_count": 150,
      "outputs": [
        {
          "output_type": "execute_result",
          "data": {
            "text/html": [
              "<img src=\"https://raw.githubusercontent.com/SIIIKOR/sad2/main/projekt2//TASK_1.jpg\" width=\"1066\" height=\"603\"/>"
            ],
            "text/plain": [
              "<IPython.core.display.Image object>"
            ]
          },
          "metadata": {},
          "execution_count": 150
        }
      ]
    },
    {
      "cell_type": "code",
      "source": [
        "P_ONE = 0.444               # P(C=T | R=T, S=T, W=T)\n",
        "P_TWO = 0.048               # P(C=T | R=F, S=T, W=T)\n",
        "P_THREE = 0.815             # P(R=T | C=T, S=T, W=T)\n",
        "P_FOUR = 0.216              # P(R=T | C=F, S=T, W=T)\n",
        "\n",
        "CLOUDY_DIST = (\n",
        "    #C=FALSE    C=TRUE\n",
        "    (1-P_TWO,   P_TWO),     #R=FALSE\n",
        "    (1-P_ONE,   P_ONE)      #R=TRUE\n",
        ")\n",
        "RAIN_DIST = (\n",
        "    #R=FALSE    R=TRUE\n",
        "    (1-P_FOUR,  P_FOUR),    #C=FALSE\n",
        "    (1-P_THREE, P_THREE)    #C=TRUE\n",
        ")\n",
        "\n",
        "DISTS = (CLOUDY_DIST, RAIN_DIST)\n",
        "\n",
        "CHOICES = (0, 1)"
      ],
      "metadata": {
        "id": "hqp71NrpDnuR"
      },
      "execution_count": 151,
      "outputs": []
    },
    {
      "cell_type": "markdown",
      "source": [
        "# **TASK 2**"
      ],
      "metadata": {
        "id": "8GsMeX0TDonN"
      }
    },
    {
      "cell_type": "code",
      "source": [
        "def gibbs_sample(n):\n",
        "    samples = np.empty((n, 2), dtype=int)\n",
        "    samples[0, 0] = 0                                                           # cloudy\n",
        "    samples[0, 1] = 1                                                           # rain\n",
        "\n",
        "    for i in range(1, n):                                                       # for each time step excluding first - initial values\n",
        "        idx_var = int(random() > 0.5)                                           # Randomly select index of the first variable to sample\n",
        "        idx_other_var = 1 - idx_var                                             # Index of the other variable\n",
        "\n",
        "        x_other_var_prev = samples[i-1, idx_other_var]                          # Value of the other variable in the previous iteration\n",
        "        x_var = choices(CHOICES, weights=DISTS[idx_var][idx_other_var])[0]      # Sample chosen variable value conditioning on the value of the other variable in the previous iteration\n",
        "        x_other_var = choices(CHOICES, weights=DISTS[idx_other_var][x_var])[0]  # Sample other variable value conditioning on the samples value of the chosen variable\n",
        "        \n",
        "        samples[i, idx_var] = x_var\n",
        "        samples[i, idx_other_var] = x_other_var\n",
        "\n",
        "    return samples"
      ],
      "metadata": {
        "id": "GSHBkpALDrY_"
      },
      "execution_count": 152,
      "outputs": []
    },
    {
      "cell_type": "markdown",
      "source": [
        "# **TASK 3**"
      ],
      "metadata": {
        "id": "j1kpIxy4DsJn"
      }
    },
    {
      "cell_type": "code",
      "source": [
        "samples = gibbs_sample(100)\n",
        "\n",
        "print(\"P(R=T|S=T,W=T) =\", samples[:, 1].mean())"
      ],
      "metadata": {
        "colab": {
          "base_uri": "https://localhost:8080/"
        },
        "id": "-dHNezNi48FV",
        "outputId": "47b92459-143e-4c98-9630-cf165ce9101f"
      },
      "execution_count": 153,
      "outputs": [
        {
          "output_type": "stream",
          "name": "stdout",
          "text": [
            "P(R=T|S=T,W=T) = 0.37\n"
          ]
        }
      ]
    },
    {
      "cell_type": "markdown",
      "source": [
        "# **TASK 4**"
      ],
      "metadata": {
        "id": "S4y2FaxlD_ER"
      }
    },
    {
      "cell_type": "code",
      "source": [
        "samples_one = gibbs_sample(50_000)\n",
        "samples_two = gibbs_sample(50_000)"
      ],
      "metadata": {
        "id": "VdPPKMebEAiA"
      },
      "execution_count": 154,
      "outputs": []
    },
    {
      "cell_type": "markdown",
      "source": [
        "# **TASK 5**"
      ],
      "metadata": {
        "id": "OpjpYRizJacH"
      }
    },
    {
      "cell_type": "code",
      "source": [
        "def get_zero_count(ones_count, idx):\n",
        "    return (idx+1) - ones_count\n",
        "\n",
        "def full_time_relative_counts(samples):\n",
        "    counts = np.empty((len(samples), 2), dtype=int) #cloudy rain one counts\n",
        "    counts[0, 0] = 0                                # initial values\n",
        "    counts[0, 1] = 0\n",
        "\n",
        "    for i, (x_cloudy, x_rain) in enumerate(samples):\n",
        "        x_cloudy_freq = counts[i-1, 0] + x_cloudy if i != 0 else x_cloudy\n",
        "        x_rain_freq = counts[i-1, 1] + x_rain if i != 0 else x_rain\n",
        "        counts[i, 0] = x_cloudy_freq\n",
        "        counts[i, 1] = x_rain_freq\n",
        "\n",
        "    return counts\n",
        "\n",
        "def counts_to_rf(samples):\n",
        "    rf = np.empty((len(samples), 2), dtype=float)\n",
        "    for i, val in enumerate(samples):\n",
        "        rf[i] = val / i if i != 0 else val\n",
        "    return rf\n",
        "\n",
        "def plot_freqs(samples):\n",
        "    fig, axs = plt.subplots(2, figsize=(12, 6))\n",
        "    x = np.arange(len(samples))\n",
        "\n",
        "    axs[0].plot(x, samples[:, 0])\n",
        "    axs[0].set_ylabel(\"cloudy ones rf\")\n",
        "    axs[1].plot(x, samples[:, 1])\n",
        "    axs[1].set_xlabel('t')\n",
        "    axs[1].set_ylabel(\"rain ones rf\")\n",
        "\n",
        "    fig.show()\n",
        "\n",
        "samples_one_rf = counts_to_rf(full_time_relative_counts(samples_one))\n",
        "samples_two_rf = counts_to_rf(full_time_relative_counts(samples_two))"
      ],
      "metadata": {
        "id": "ctNbbNXqJcX5"
      },
      "execution_count": 155,
      "outputs": []
    },
    {
      "cell_type": "code",
      "source": [
        "plot_freqs(samples_one_rf[:2000])"
      ],
      "metadata": {
        "colab": {
          "base_uri": "https://localhost:8080/",
          "height": 388
        },
        "id": "dRZNY_7FacvN",
        "outputId": "8d71f373-bbcd-4ca3-c07e-270e17db023f"
      },
      "execution_count": 156,
      "outputs": [
        {
          "output_type": "display_data",
          "data": {
            "text/plain": [
              "<Figure size 864x432 with 2 Axes>"
            ],
            "image/png": "[encoded data removed]"
          },
          "metadata": {
            "needs_background": "light"
          }
        }
      ]
    },
    {
      "cell_type": "code",
      "source": [
        "plot_freqs(samples_two_rf[:2000])"
      ],
      "metadata": {
        "colab": {
          "base_uri": "https://localhost:8080/",
          "height": 388
        },
        "id": "hWBRdHkpcypk",
        "outputId": "cbc89b0d-bda5-4456-8462-88bb484d8a11"
      },
      "execution_count": 157,
      "outputs": [
        {
          "output_type": "display_data",
          "data": {
            "text/plain": [
              "<Figure size 864x432 with 2 Axes>"
            ],
            "image/png": "[encoded data removed]"
          },
          "metadata": {
            "needs_background": "light"
          }
        }
      ]
    },
    {
      "cell_type": "markdown",
      "source": [
        "burn in time (takie najmniejsze t, że wykres zdaje się zbiegać) dla niektórych generacji może być tak małe jak t=100 a dla innych możę wymagać nawet t=400.\n",
        "\n",
        "Mimo tego, że może wymagać tylko 400, czasem zdarza się tak, że po pewnym czasie wartości zaczynają w miare liniowo dośc powoli spadać lub wzrastać. W związku z tym decyduje się wziąć większe t, takie, po którym nie zauważe tych wzrostów lub spadków.\n",
        "\n",
        "W związku z tym wydaje mi się, że w miare bezpieczny burn in time to t = 2000\n"
      ],
      "metadata": {
        "id": "8y61NeuD3HI9"
      }
    },
    {
      "cell_type": "markdown",
      "source": [
        "# **TASK 6**"
      ],
      "metadata": {
        "id": "vnwvgMpnugk7"
      }
    },
    {
      "cell_type": "markdown",
      "source": [
        "Zredukowałem ilość sampli do pokazania na wykresie, inaczej z wykresu nie jestem w stanie nic odczytać."
      ],
      "metadata": {
        "id": "jDy6qAFmjZk-"
      }
    },
    {
      "cell_type": "markdown",
      "source": [
        "# **Cloudy**"
      ],
      "metadata": {
        "id": "vB4aTEGHwuVx"
      }
    },
    {
      "cell_type": "code",
      "source": [
        "sm.graphics.tsa.plot_acf(samples_one_rf[:100, 0])\n",
        "plt.show()"
      ],
      "metadata": {
        "colab": {
          "base_uri": "https://localhost:8080/",
          "height": 281
        },
        "id": "jmV0_GAUuie6",
        "outputId": "e3fda820-71ee-41ac-a616-01dbe0a23beb"
      },
      "execution_count": 158,
      "outputs": [
        {
          "output_type": "display_data",
          "data": {
            "text/plain": [
              "<Figure size 432x288 with 1 Axes>"
            ],
            "image/png": "[encoded data removed]"
          },
          "metadata": {
            "needs_background": "light"
          }
        }
      ]
    },
    {
      "cell_type": "markdown",
      "source": [
        "# **Rain**"
      ],
      "metadata": {
        "id": "lFMXI4kUwxLx"
      }
    },
    {
      "cell_type": "code",
      "source": [
        "sm.graphics.tsa.plot_acf(samples_one_rf[:100, 1])\n",
        "plt.show()"
      ],
      "metadata": {
        "colab": {
          "base_uri": "https://localhost:8080/",
          "height": 281
        },
        "id": "TJF18LcAwMDR",
        "outputId": "859574cb-7d86-477e-b5cc-306427f135c5"
      },
      "execution_count": 159,
      "outputs": [
        {
          "output_type": "display_data",
          "data": {
            "text/plain": [
              "<Figure size 432x288 with 1 Axes>"
            ],
            "image/png": "[encoded data removed]"
          },
          "metadata": {
            "needs_background": "light"
          }
        }
      ]
    },
    {
      "cell_type": "markdown",
      "source": [
        "Możemy zauważyć, że korelacja na początku jest dodatnia. W przypadku cloudy spada do zera po interval=10 natomiast w przyadku rain jest zerowa tak szybko jak już po interval=4 lub interval=5. Dalej dla większych wartości oscyluje wokół zera.\n",
        "\n",
        "Wybrałbym interval=10 tak aby dla obu było ok.\n"
      ],
      "metadata": {
        "id": "zgBO-FPJ54m6"
      }
    },
    {
      "cell_type": "markdown",
      "source": [
        "# **TASK 7**"
      ],
      "metadata": {
        "id": "-YpVXSN0soJ7"
      }
    },
    {
      "cell_type": "code",
      "source": [
        "def gibbs_sample_optimised(n, burn_in=2000, interval=10):\n",
        "    samples = np.empty((burn_in + interval*n, 2), dtype=int)                    # we will have to make interval times more calculations to get n samples\n",
        "    samples[0, 0] = 0                                                           # cloudy\n",
        "    samples[0, 1] = 1                                                           # rain\n",
        "\n",
        "    for i in range(1, burn_in + n*interval):                                    # for each time step excluding first - initial values\n",
        "        idx_var = int(random() > 0.5)                                           # Randomly select index of the first variable to sample\n",
        "        idx_other_var = 1 - idx_var                                             # Index of the other variable\n",
        "\n",
        "        x_other_var_prev = samples[i-1, idx_other_var]                          # Value of the other variable in the previous iteration\n",
        "        x_var = choices(CHOICES, weights=DISTS[idx_var][idx_other_var])[0]      # Sample chosen variable value conditioning on the value of the other variable in the previous iteration\n",
        "        x_other_var = choices(CHOICES, weights=DISTS[idx_other_var][x_var])[0]  # Sample other variable value conditioning on the samples value of the chosen variable\n",
        "        \n",
        "        samples[i, idx_var] = x_var\n",
        "        samples[i, idx_other_var] = x_other_var\n",
        "\n",
        "    return samples[burn_in::interval]                                           # take only interval'th element after initial burn in"
      ],
      "metadata": {
        "id": "KZzIFinossGn"
      },
      "execution_count": 162,
      "outputs": []
    },
    {
      "cell_type": "markdown",
      "source": [
        "# **TASK 8**"
      ],
      "metadata": {
        "id": "zxB1XlPlvEdN"
      }
    },
    {
      "cell_type": "code",
      "source": [
        "samples = gibbs_sample_optimised(100)\n",
        "\n",
        "print(\"P(R=T|S=T,W=T) =\", samples[:, 1].mean())"
      ],
      "metadata": {
        "colab": {
          "base_uri": "https://localhost:8080/"
        },
        "id": "QiqsClOXvCvR",
        "outputId": "b49f034f-a065-4b18-8a9c-ce2ffa157ce5"
      },
      "execution_count": 163,
      "outputs": [
        {
          "output_type": "stream",
          "name": "stdout",
          "text": [
            "P(R=T|S=T,W=T) = 0.37\n"
          ]
        }
      ]
    },
    {
      "cell_type": "markdown",
      "source": [
        "# **TEST**"
      ],
      "metadata": {
        "id": "a1pV4Av2xQ2H"
      }
    },
    {
      "cell_type": "code",
      "source": [
        "var = 1\n",
        "t = 100\n",
        "T = 1000\n",
        "base_version_samples = np.array([gibbs_sample(t)[:, var].mean() for _ in range(T)])\n",
        "improved_version_samples = np.array([gibbs_sample_optimised(t)[:, var].mean() for _ in range(T)])"
      ],
      "metadata": {
        "id": "Cdn6RVptxQJR"
      },
      "execution_count": 167,
      "outputs": []
    },
    {
      "cell_type": "code",
      "source": [
        "print(\"base gibbs mean: \", base_version_samples.mean())\n",
        "print(\"improved gibbs mean: \", improved_version_samples.mean())\n",
        "print()\n",
        "print(\"base gibbs variance: \", base_version_samples.var())\n",
        "print(\"improved gibbs variance: \", improved_version_samples.var())"
      ],
      "metadata": {
        "colab": {
          "base_uri": "https://localhost:8080/"
        },
        "id": "2X_qkAeexgJ6",
        "outputId": "4fdc4195-c9b5-4c11-bd14-99258ea23dda"
      },
      "execution_count": 168,
      "outputs": [
        {
          "output_type": "stream",
          "name": "stdout",
          "text": [
            "base gibbs mean:  0.35534\n",
            "improved gibbs mean:  0.34837\n",
            "\n",
            "base gibbs variance:  0.0022648843999999997\n",
            "improved gibbs variance:  0.0022212431\n"
          ]
        }
      ]
    },
    {
      "cell_type": "markdown",
      "source": [
        "W obu przypadkach mean jest prawie taki sam (powinien być identyczny).\n",
        "Natomiast wersja z brun in i spłaszczaniem ma mniejszą wariancje, czyli ogólnie jej wyniki są bliżej rzeczywistej wartości niż w przypadku wersji bazowej.\n",
        "\n",
        "Pokazuje to, że mój burn in i interval poprawiają jakość samplowania, ale nie jakoś szczególnie bardzo."
      ],
      "metadata": {
        "id": "EvBDyZjGyenU"
      }
    },
    {
      "cell_type": "markdown",
      "source": [
        "# **TASK 9**"
      ],
      "metadata": {
        "id": "FAhPuBX7YJJ5"
      }
    },
    {
      "cell_type": "code",
      "source": [
        "Image(url=TASK_9_IMG_PATH, width=3200//3, height=1809//3)"
      ],
      "metadata": {
        "colab": {
          "base_uri": "https://localhost:8080/",
          "height": 624
        },
        "id": "oyVCxffU-2P1",
        "outputId": "ffbbd614-50fe-4c37-963b-a30f5936d291"
      },
      "execution_count": 146,
      "outputs": [
        {
          "output_type": "execute_result",
          "data": {
            "text/html": [
              "<img src=\"https://raw.githubusercontent.com/SIIIKOR/sad2/main/projekt2//TASK_9.jpg\" width=\"1066\" height=\"603\"/>"
            ],
            "text/plain": [
              "<IPython.core.display.Image object>"
            ]
          },
          "metadata": {},
          "execution_count": 146
        }
      ]
    },
    {
      "cell_type": "markdown",
      "source": [
        "Otrzymywane przeze mnie wyniki nie są identyczne, ale są bardzo zbliżone do 0.32"
      ],
      "metadata": {
        "id": "IMQG8PZC_NxR"
      }
    },
    {
      "cell_type": "markdown",
      "source": [
        "# **BONUS**"
      ],
      "metadata": {
        "id": "QKb9HCi6YLeg"
      }
    },
    {
      "cell_type": "code",
      "source": [
        "def gelman_rubin_test(x):\n",
        "    n = len(x)\n",
        "    W = x.var(axis=1).mean()\n",
        "    B = x.mean(axis=1).var()\n",
        "    sigma_hat_squared = (n-1)*W/n + B/n\n",
        "    return sigma_hat_squared\n",
        "\n",
        "x = np.array([gibbs_sample_optimised(100)[:, 1] for _ in range(25)])\n",
        "sigma_hat_squared = gelman_rubin_test(x)\n",
        "\n",
        "for i, chain in enumerate(x):\n",
        "    print(f\"{i}'th chain variance: {round(chain.var(), 3)}\")\n",
        "\n",
        "print(\"varaince across all chains\", round(sigma_hat_squared, 3))"
      ],
      "metadata": {
        "colab": {
          "base_uri": "https://localhost:8080/"
        },
        "id": "QZ7Qqto1YPxA",
        "outputId": "c9a8befa-88c8-4ef0-8e92-131da9cbd132"
      },
      "execution_count": 166,
      "outputs": [
        {
          "output_type": "stream",
          "name": "stdout",
          "text": [
            "0'th chain variance: 0.218\n",
            "1'th chain variance: 0.218\n",
            "2'th chain variance: 0.206\n",
            "3'th chain variance: 0.21\n",
            "4'th chain variance: 0.24\n",
            "5'th chain variance: 0.218\n",
            "6'th chain variance: 0.192\n",
            "7'th chain variance: 0.24\n",
            "8'th chain variance: 0.218\n",
            "9'th chain variance: 0.24\n",
            "10'th chain variance: 0.227\n",
            "11'th chain variance: 0.206\n",
            "12'th chain variance: 0.236\n",
            "13'th chain variance: 0.214\n",
            "14'th chain variance: 0.24\n",
            "15'th chain variance: 0.214\n",
            "16'th chain variance: 0.21\n",
            "17'th chain variance: 0.236\n",
            "18'th chain variance: 0.218\n",
            "19'th chain variance: 0.218\n",
            "20'th chain variance: 0.242\n",
            "21'th chain variance: 0.228\n",
            "22'th chain variance: 0.23\n",
            "23'th chain variance: 0.227\n",
            "24'th chain variance: 0.236\n",
            "varaince across all chains 0.214\n"
          ]
        }
      ]
    },
    {
      "cell_type": "markdown",
      "source": [
        "Wyniki nie są identyczne, ale są dość zbliżone."
      ],
      "metadata": {
        "id": "0ijmYmE89QJm"
      }
    }
  ]
}