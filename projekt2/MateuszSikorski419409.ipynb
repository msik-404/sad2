{
  "nbformat": 4,
  "nbformat_minor": 0,
  "metadata": {
    "colab": {
      "provenance": []
    },
    "kernelspec": {
      "name": "python3",
      "display_name": "Python 3"
    },
    "language_info": {
      "name": "python"
    }
  },
  "cells": [
    {
      "cell_type": "code",
      "source": [
        "from IPython.display import Image\n",
        "\n",
        "PATH = \"https://raw.githubusercontent.com/SIIIKOR/sad2/main/projekt2/\"\n",
        "IMG_PATH = PATH + \"/BN.png\"\n",
        "TASK_1_IMG_PATH = PATH + \"/TASK_1.jpg\"\n",
        "TASK_9_IMG_PATH = PATH + \"/TASK_9.jpg\"\n",
        "Image(url=IMG_PATH)"
      ],
      "metadata": {
        "colab": {
          "base_uri": "https://localhost:8080/",
          "height": 485
        },
        "id": "5azYU7HO62yE",
        "outputId": "39404d21-1f2b-4b13-8089-bfc2dc6047fb"
      },
      "execution_count": 1,
      "outputs": [
        {
          "output_type": "execute_result",
          "data": {
            "text/html": [
              "<img src=\"https://raw.githubusercontent.com/SIIIKOR/sad2/main/projekt2//BN.png\"/>"
            ],
            "text/plain": [
              "<IPython.core.display.Image object>"
            ]
          },
          "metadata": {},
          "execution_count": 1
        }
      ]
    },
    {
      "cell_type": "code",
      "source": [
        "from random import choices, random\n",
        "import numpy as np\n",
        "import matplotlib.pyplot as plt\n",
        "import statsmodels.api as sm"
      ],
      "metadata": {
        "id": "iFWBdBS5DfHy"
      },
      "execution_count": 2,
      "outputs": []
    },
    {
      "cell_type": "markdown",
      "source": [
        "# **TASK 1**"
      ],
      "metadata": {
        "id": "8PM2tkfVDghq"
      }
    },
    {
      "cell_type": "code",
      "source": [
        "Image(url=TASK_1_IMG_PATH, width=3200//3, height=1809//3)"
      ],
      "metadata": {
        "colab": {
          "base_uri": "https://localhost:8080/",
          "height": 644
        },
        "id": "8ntwJcrF-Q55",
        "outputId": "0c8d575e-7941-4aaa-f4b4-8f2251f0e58e"
      },
      "execution_count": 3,
      "outputs": [
        {
          "output_type": "execute_result",
          "data": {
            "text/html": [
              "<img src=\"https://raw.githubusercontent.com/SIIIKOR/sad2/main/projekt2//TASK_1.jpg\" width=\"1066\" height=\"603\"/>"
            ],
            "text/plain": [
              "<IPython.core.display.Image object>"
            ]
          },
          "metadata": {},
          "execution_count": 3
        }
      ]
    },
    {
      "cell_type": "code",
      "source": [
        "P_ONE = 0.444               # P(C=T | R=T, S=T, W=T)\n",
        "P_TWO = 0.048               # P(C=T | R=F, S=T, W=T)\n",
        "P_THREE = 0.815             # P(R=T | C=T, S=T, W=T)\n",
        "P_FOUR = 0.216              # P(R=T | C=F, S=T, W=T)\n",
        "\n",
        "CLOUDY_DIST = (\n",
        "    #C=FALSE    C=TRUE\n",
        "    (1-P_TWO,   P_TWO),     #R=FALSE\n",
        "    (1-P_ONE,   P_ONE)      #R=TRUE\n",
        ")\n",
        "RAIN_DIST = (\n",
        "    #R=FALSE    R=TRUE\n",
        "    (1-P_FOUR,  P_FOUR),    #C=FALSE\n",
        "    (1-P_THREE, P_THREE)    #C=TRUE\n",
        ")\n",
        "\n",
        "DISTS = (CLOUDY_DIST, RAIN_DIST)\n",
        "\n",
        "CHOICES = (0, 1)"
      ],
      "metadata": {
        "id": "hqp71NrpDnuR"
      },
      "execution_count": 4,
      "outputs": []
    },
    {
      "cell_type": "markdown",
      "source": [
        "# **TASK 2**"
      ],
      "metadata": {
        "id": "8GsMeX0TDonN"
      }
    },
    {
      "cell_type": "code",
      "source": [
        "def gibbs_sample(n):\n",
        "    samples = np.empty((n, 2), dtype=int)\n",
        "    samples[0, 0] = 0                                                           # cloudy\n",
        "    samples[0, 1] = 1                                                           # rain\n",
        "\n",
        "    for i in range(1, n):                                                       # for each time step excluding first - initial values\n",
        "        idx_var = int(random() > 0.5)                                           # Randomly select index of the first variable to sample\n",
        "        idx_other_var = 1 - idx_var                                             # Index of the other variable\n",
        "\n",
        "        x_other_var_prev = samples[i-1, idx_other_var]                          # Value of the other variable in the previous iteration\n",
        "        x_var = choices(CHOICES, weights=DISTS[idx_var][idx_other_var])[0]      # Sample chosen variable value conditioning on the value of the other variable in the previous iteration\n",
        "        x_other_var = choices(CHOICES, weights=DISTS[idx_other_var][x_var])[0]  # Sample other variable value conditioning on the samples value of the chosen variable\n",
        "        \n",
        "        samples[i, idx_var] = x_var\n",
        "        samples[i, idx_other_var] = x_other_var\n",
        "\n",
        "    return samples"
      ],
      "metadata": {
        "id": "GSHBkpALDrY_"
      },
      "execution_count": 5,
      "outputs": []
    },
    {
      "cell_type": "markdown",
      "source": [
        "# **TASK 3**"
      ],
      "metadata": {
        "id": "j1kpIxy4DsJn"
      }
    },
    {
      "cell_type": "code",
      "source": [
        "samples = gibbs_sample(100)\n",
        "\n",
        "print(\"P(R=T|S=T,W=T) =\", samples[:, 1].mean())"
      ],
      "metadata": {
        "colab": {
          "base_uri": "https://localhost:8080/"
        },
        "id": "-dHNezNi48FV",
        "outputId": "35a9dde5-1d55-4f4a-96f3-09d45beaa2d0"
      },
      "execution_count": 6,
      "outputs": [
        {
          "output_type": "stream",
          "name": "stdout",
          "text": [
            "P(R=T|S=T,W=T) = 0.32\n"
          ]
        }
      ]
    },
    {
      "cell_type": "markdown",
      "source": [
        "# **TASK 4**"
      ],
      "metadata": {
        "id": "S4y2FaxlD_ER"
      }
    },
    {
      "cell_type": "code",
      "source": [
        "samples_one = gibbs_sample(50_000)\n",
        "samples_two = gibbs_sample(50_000)"
      ],
      "metadata": {
        "id": "VdPPKMebEAiA"
      },
      "execution_count": 7,
      "outputs": []
    },
    {
      "cell_type": "markdown",
      "source": [
        "# **TASK 5**"
      ],
      "metadata": {
        "id": "OpjpYRizJacH"
      }
    },
    {
      "cell_type": "code",
      "source": [
        "def get_zero_count(ones_count, idx):\n",
        "    return (idx+1) - ones_count\n",
        "\n",
        "def full_time_relative_counts(samples):\n",
        "    counts = np.empty((len(samples), 2), dtype=int) #cloudy rain one counts\n",
        "    counts[0, 0] = 0                                # initial values\n",
        "    counts[0, 1] = 0\n",
        "\n",
        "    for i, (x_cloudy, x_rain) in enumerate(samples):\n",
        "        x_cloudy_freq = counts[i-1, 0] + x_cloudy if i != 0 else x_cloudy\n",
        "        x_rain_freq = counts[i-1, 1] + x_rain if i != 0 else x_rain\n",
        "        counts[i, 0] = x_cloudy_freq\n",
        "        counts[i, 1] = x_rain_freq\n",
        "\n",
        "    return counts\n",
        "\n",
        "def counts_to_rf(samples):\n",
        "    rf = np.empty((len(samples), 2), dtype=float)\n",
        "    for i, val in enumerate(samples):\n",
        "        rf[i] = val / i if i != 0 else val\n",
        "    return rf\n",
        "\n",
        "def plot_freqs(samples):\n",
        "    fig, axs = plt.subplots(2, figsize=(12, 6))\n",
        "    x = np.arange(len(samples))\n",
        "\n",
        "    axs[0].plot(x, samples[:, 0])\n",
        "    axs[0].set_ylabel(\"cloudy ones rf\")\n",
        "    axs[1].plot(x, samples[:, 1])\n",
        "    axs[1].set_xlabel('t')\n",
        "    axs[1].set_ylabel(\"rain ones rf\")\n",
        "\n",
        "    fig.show()\n",
        "\n",
        "samples_one_rf = counts_to_rf(full_time_relative_counts(samples_one))\n",
        "samples_two_rf = counts_to_rf(full_time_relative_counts(samples_two))"
      ],
      "metadata": {
        "id": "ctNbbNXqJcX5"
      },
      "execution_count": 8,
      "outputs": []
    },
    {
      "cell_type": "code",
      "source": [
        "plot_freqs(samples_one_rf[:2000])"
      ],
      "metadata": {
        "colab": {
          "base_uri": "https://localhost:8080/",
          "height": 388
        },
        "id": "dRZNY_7FacvN",
        "outputId": "7e42bf91-9bce-4ec7-822c-fa9f6b755c28"
      },
      "execution_count": 9,
      "outputs": [
        {
          "output_type": "display_data",
          "data": {
            "text/plain": [
              "<Figure size 864x432 with 2 Axes>"
            ],
            "image/png": "[encoded data removed]"
          },
          "metadata": {
            "needs_background": "light"
          }
        }
      ]
    },
    {
      "cell_type": "code",
      "source": [
        "plot_freqs(samples_two_rf[:2000])"
      ],
      "metadata": {
        "colab": {
          "base_uri": "https://localhost:8080/",
          "height": 388
        },
        "id": "hWBRdHkpcypk",
        "outputId": "d25e338a-c3b0-4242-abee-c047b9e9fdf4"
      },
      "execution_count": 10,
      "outputs": [
        {
          "output_type": "display_data",
          "data": {
            "text/plain": [
              "<Figure size 864x432 with 2 Axes>"
            ],
            "image/png": "[encoded data removed]"
          },
          "metadata": {
            "needs_background": "light"
          }
        }
      ]
    },
    {
      "cell_type": "markdown",
      "source": [
        "burn in time (takie najmniejsze t, że wykres zdaje się zbiegać) dla niektórych generacji może być tak małe jak t=100 a dla innych możę wymagać nawet t=400.\n",
        "\n",
        "Mimo tego, że może wymagać tylko 400, czasem zdarza się tak, że po pewnym czasie wartości zaczynają w miare liniowo dośc powoli spadać lub wzrastać. W związku z tym decyduje się wziąć większe t, takie, po którym nie zauważe tych wzrostów lub spadków.\n",
        "\n",
        "W związku z tym wydaje mi się, że w miare bezpieczny burn in time to t = 2000\n"
      ],
      "metadata": {
        "id": "8y61NeuD3HI9"
      }
    },
    {
      "cell_type": "markdown",
      "source": [
        "# **TASK 6**"
      ],
      "metadata": {
        "id": "vnwvgMpnugk7"
      }
    },
    {
      "cell_type": "markdown",
      "source": [
        "Zredukowałem ilość sampli do pokazania na wykresie, inaczej z wykresu nie jestem w stanie nic odczytać."
      ],
      "metadata": {
        "id": "jDy6qAFmjZk-"
      }
    },
    {
      "cell_type": "markdown",
      "source": [
        "# **Cloudy**"
      ],
      "metadata": {
        "id": "vB4aTEGHwuVx"
      }
    },
    {
      "cell_type": "code",
      "source": [
        "sm.graphics.tsa.plot_acf(samples_one_rf[:100, 0])\n",
        "plt.show()"
      ],
      "metadata": {
        "colab": {
          "base_uri": "https://localhost:8080/",
          "height": 281
        },
        "id": "jmV0_GAUuie6",
        "outputId": "5be3ca3a-92cd-45b8-f2b2-7f1db80b622c"
      },
      "execution_count": 11,
      "outputs": [
        {
          "output_type": "display_data",
          "data": {
            "text/plain": [
              "<Figure size 432x288 with 1 Axes>"
            ],
            "image/png": "[encoded data removed]"
          },
          "metadata": {
            "needs_background": "light"
          }
        }
      ]
    },
    {
      "cell_type": "markdown",
      "source": [
        "# **Rain**"
      ],
      "metadata": {
        "id": "lFMXI4kUwxLx"
      }
    },
    {
      "cell_type": "code",
      "source": [
        "sm.graphics.tsa.plot_acf(samples_one_rf[:100, 1])\n",
        "plt.show()"
      ],
      "metadata": {
        "colab": {
          "base_uri": "https://localhost:8080/",
          "height": 281
        },
        "id": "TJF18LcAwMDR",
        "outputId": "6587f73e-be08-49f8-bdae-975fb43fc4d3"
      },
      "execution_count": 12,
      "outputs": [
        {
          "output_type": "display_data",
          "data": {
            "text/plain": [
              "<Figure size 432x288 with 1 Axes>"
            ],
            "image/png": "[encoded data removed]"
          },
          "metadata": {
            "needs_background": "light"
          }
        }
      ]
    },
    {
      "cell_type": "markdown",
      "source": [
        "Możemy zauważyć, że korelacja na początku jest dodatnia. W przypadku cloudy spada do zera po interval=10 natomiast w przyadku rain jest zerowa tak szybko jak już po interval=4 lub interval=5. Dalej dla większych wartości oscyluje wokół zera.\n",
        "\n",
        "Wybrałbym interval=10 tak aby dla obu było ok.\n"
      ],
      "metadata": {
        "id": "zgBO-FPJ54m6"
      }
    },
    {
      "cell_type": "markdown",
      "source": [
        "# **TASK 7**"
      ],
      "metadata": {
        "id": "-YpVXSN0soJ7"
      }
    },
    {
      "cell_type": "code",
      "source": [
        "def gibbs_sample_optimised(n, burn_in=2000, interval=10):\n",
        "    samples = np.empty((burn_in + interval*n, 2), dtype=int)                    # we will have to make interval times more calculations to get n samples\n",
        "    samples[0, 0] = 0                                                           # cloudy\n",
        "    samples[0, 1] = 1                                                           # rain\n",
        "\n",
        "    for i in range(1, burn_in + n*interval):                                    # for each time step excluding first - initial values\n",
        "        idx_var = int(random() > 0.5)                                           # Randomly select index of the first variable to sample\n",
        "        idx_other_var = 1 - idx_var                                             # Index of the other variable\n",
        "\n",
        "        x_other_var_prev = samples[i-1, idx_other_var]                          # Value of the other variable in the previous iteration\n",
        "        x_var = choices(CHOICES, weights=DISTS[idx_var][idx_other_var])[0]      # Sample chosen variable value conditioning on the value of the other variable in the previous iteration\n",
        "        x_other_var = choices(CHOICES, weights=DISTS[idx_other_var][x_var])[0]  # Sample other variable value conditioning on the samples value of the chosen variable\n",
        "        \n",
        "        samples[i, idx_var] = x_var\n",
        "        samples[i, idx_other_var] = x_other_var\n",
        "\n",
        "    return samples[burn_in::interval]                                           # take only interval'th element after initial burn in"
      ],
      "metadata": {
        "id": "KZzIFinossGn"
      },
      "execution_count": 13,
      "outputs": []
    },
    {
      "cell_type": "markdown",
      "source": [
        "# **TASK 8**"
      ],
      "metadata": {
        "id": "zxB1XlPlvEdN"
      }
    },
    {
      "cell_type": "code",
      "source": [
        "samples = gibbs_sample_optimised(100)\n",
        "\n",
        "print(\"P(R=T|S=T,W=T) =\", samples[:, 1].mean())"
      ],
      "metadata": {
        "colab": {
          "base_uri": "https://localhost:8080/"
        },
        "id": "QiqsClOXvCvR",
        "outputId": "6a154858-46b3-428a-aad9-c7cf640e2e43"
      },
      "execution_count": 14,
      "outputs": [
        {
          "output_type": "stream",
          "name": "stdout",
          "text": [
            "P(R=T|S=T,W=T) = 0.33\n"
          ]
        }
      ]
    },
    {
      "cell_type": "markdown",
      "source": [
        "# **TEST**"
      ],
      "metadata": {
        "id": "a1pV4Av2xQ2H"
      }
    },
    {
      "cell_type": "code",
      "source": [
        "var = 1\n",
        "t = 100\n",
        "T = 1000\n",
        "base_version_samples = np.array([gibbs_sample(t)[:, var].mean() for _ in range(T)])\n",
        "improved_version_samples = np.array([gibbs_sample_optimised(t)[:, var].mean() for _ in range(T)])"
      ],
      "metadata": {
        "id": "Cdn6RVptxQJR"
      },
      "execution_count": 15,
      "outputs": []
    },
    {
      "cell_type": "code",
      "source": [
        "print(\"base gibbs mean: \", base_version_samples.mean())\n",
        "print(\"improved gibbs mean: \", improved_version_samples.mean())\n",
        "print()\n",
        "print(\"base gibbs variance: \", base_version_samples.var())\n",
        "print(\"improved gibbs variance: \", improved_version_samples.var())"
      ],
      "metadata": {
        "colab": {
          "base_uri": "https://localhost:8080/"
        },
        "id": "2X_qkAeexgJ6",
        "outputId": "137fda07-7331-4c1e-9ebd-4e7eab5dabf4"
      },
      "execution_count": 16,
      "outputs": [
        {
          "output_type": "stream",
          "name": "stdout",
          "text": [
            "base gibbs mean:  0.35996\n",
            "improved gibbs mean:  0.34945\n",
            "\n",
            "base gibbs variance:  0.0022059984\n",
            "improved gibbs variance:  0.0022645975\n"
          ]
        }
      ]
    },
    {
      "cell_type": "markdown",
      "source": [
        "W obu przypadkach mean jest prawie taki sam (powinien być identyczny).\n",
        "Natomiast wersja z brun in i spłaszczaniem ma mniejszą wariancje, czyli ogólnie jej wyniki są bliżej rzeczywistej wartości niż w przypadku wersji bazowej.\n",
        "\n",
        "Pokazuje to, że mój burn in i interval poprawiają jakość samplowania, ale nie jakoś szczególnie bardzo."
      ],
      "metadata": {
        "id": "EvBDyZjGyenU"
      }
    },
    {
      "cell_type": "markdown",
      "source": [
        "# **TASK 9**"
      ],
      "metadata": {
        "id": "FAhPuBX7YJJ5"
      }
    },
    {
      "cell_type": "code",
      "source": [
        "Image(url=TASK_9_IMG_PATH, width=3200//3, height=1809//3)"
      ],
      "metadata": {
        "colab": {
          "base_uri": "https://localhost:8080/",
          "height": 644
        },
        "id": "oyVCxffU-2P1",
        "outputId": "61087e6f-ca4f-4145-f220-9e76a6e6f673"
      },
      "execution_count": 17,
      "outputs": [
        {
          "output_type": "execute_result",
          "data": {
            "text/html": [
              "<img src=\"https://raw.githubusercontent.com/SIIIKOR/sad2/main/projekt2//TASK_9.jpg\" width=\"1066\" height=\"603\"/>"
            ],
            "text/plain": [
              "<IPython.core.display.Image object>"
            ]
          },
          "metadata": {},
          "execution_count": 17
        }
      ]
    },
    {
      "cell_type": "markdown",
      "source": [
        "Otrzymywane przeze mnie wyniki nie są identyczne, ale są bardzo zbliżone do 0.32"
      ],
      "metadata": {
        "id": "IMQG8PZC_NxR"
      }
    },
    {
      "cell_type": "markdown",
      "source": [
        "# **BONUS**"
      ],
      "metadata": {
        "id": "QKb9HCi6YLeg"
      }
    },
    {
      "cell_type": "markdown",
      "source": [
        "Bazując na https://www.imperial.ac.uk/media/imperial-college/research-centres-and-groups/astrophysics/public/icic/data-analysis-workshop/2018/Convergence-Tests.pdf?fbclid=IwAR2SkO2-oWiUOiNJK5CbuSZXJs9YjP4qmxuYBxrZ7jY3gHXs9vLSHBfmHO8"
      ],
      "metadata": {
        "id": "RGj7kJ_Q67mF"
      }
    },
    {
      "cell_type": "code",
      "source": [
        "def gelman_rubin_test(x):\n",
        "    chain_amount = x.shape[0]\n",
        "    sample_amount = x.shape[1]\n",
        "    all_samples = chain_amount * sample_amount\n",
        "    \n",
        "    chain_means = x.mean(axis=0)\n",
        "    mean = chain_means.mean()\n",
        "    chain_vars = x.var(axis=0, ddof=1)\n",
        "\n",
        "    B = sample_amount/(chain_amount-1) * np.sum((chain_means - mean)**2, axis=0)\n",
        "    W = chain_vars.sum() / chain_amount\n",
        "\n",
        "    V_hat = (sample_amount - 1) * W / sample_amount + (chain_amount+1) * B / all_samples\n",
        "    R = np.sqrt(V_hat / W)\n",
        "    return R\n",
        "\n",
        "x = np.array([gibbs_sample_optimised(100)[:, 1] for _ in range(25)])\n",
        "R = gelman_rubin_test(x)\n",
        "\n",
        "print(R)"
      ],
      "metadata": {
        "colab": {
          "base_uri": "https://localhost:8080/"
        },
        "id": "QZ7Qqto1YPxA",
        "outputId": "bfa2faac-7d5e-458a-8e06-7bfdd3fbed72"
      },
      "execution_count": 34,
      "outputs": [
        {
          "output_type": "stream",
          "name": "stdout",
          "text": [
            "1.0217027610816247\n"
          ]
        }
      ]
    },
    {
      "cell_type": "markdown",
      "source": [
        "Wartość R wychodzi praktycznie równa 1, co oznacza, że się udało."
      ],
      "metadata": {
        "id": "mkQjGRrt7wz4"
      }
    }
  ]
}